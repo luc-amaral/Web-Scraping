{
 "cells": [
  {
   "cell_type": "code",
   "execution_count": 48,
   "id": "2d634e51",
   "metadata": {},
   "outputs": [],
   "source": [
    "#conda install -c conda-forge git+https://github.com/tweepy/tweepy.git\n",
    "\n",
    "#install git+https://github.com/tweepy/tweepy.git"
   ]
  },
  {
   "cell_type": "code",
   "execution_count": 224,
   "id": "c0b27902",
   "metadata": {},
   "outputs": [],
   "source": [
    "import pandas as pd\n",
    "import tweepy"
   ]
  },
  {
   "cell_type": "code",
   "execution_count": 225,
   "id": "c313809a",
   "metadata": {},
   "outputs": [],
   "source": [
    "#Loading the keys and credentials of API\n",
    "\n",
    "with open ('API Key.txt', 'r') as file:\n",
    "    api_key = file.read().replace('\\n', '')\n",
    "    \n",
    "with open ('API Secret Key.txt', 'r') as file:\n",
    "    api_secret_key = file.read().replace('\\n', '')\n",
    "    \n",
    "with open ('Access Token.txt', 'r') as file:\n",
    "    access_token = file.read().replace('\\n', '')\n",
    "\n",
    "with open ('Access Token Secret.txt', 'r') as file:\n",
    "    access_token_secret = file.read().replace('\\n', '')\n"
   ]
  },
  {
   "cell_type": "code",
   "execution_count": 226,
   "id": "0f36ee29",
   "metadata": {},
   "outputs": [],
   "source": [
    "#Loading the user credentials of user, if necessary\n",
    "\n",
    "with open ('user_name.txt', 'r') as file:\n",
    "    user_name = file.read().replace('\\n', '')\n",
    "    \n",
    "with open ('user_id.txt', 'r') as file:\n",
    "    user_id = file.read().replace('\\n', '')"
   ]
  },
  {
   "cell_type": "code",
   "execution_count": 227,
   "id": "bd8d1dcd",
   "metadata": {},
   "outputs": [],
   "source": [
    "auth = tweepy.OAuthHandler(api_key, api_secret_key)\n",
    "auth.set_access_token(access_token, access_token_secret)\n",
    "\n",
    "api = tweepy.API(auth)"
   ]
  },
  {
   "cell_type": "code",
   "execution_count": 228,
   "id": "bc475aa3",
   "metadata": {},
   "outputs": [
    {
     "data": {
      "text/plain": [
       "28"
      ]
     },
     "execution_count": 228,
     "metadata": {},
     "output_type": "execute_result"
    }
   ],
   "source": [
    "# Test\n",
    "user_tweets = api.user_timeline(screen_name = user_id, count = 170, include_rts = True, tweet_mode = 'extended')\n",
    "len(user_tweets) #Number of tweet of this user"
   ]
  },
  {
   "cell_type": "code",
   "execution_count": 229,
   "id": "7b7d5b8e",
   "metadata": {},
   "outputs": [],
   "source": [
    "#Trends Topics Brazil\n",
    "#WOEID (Where On Earth ID) Brazil is 23424768\n",
    "\n",
    "WOEID_BR = 23424768"
   ]
  },
  {
   "cell_type": "code",
   "execution_count": 230,
   "id": "d78951fd",
   "metadata": {},
   "outputs": [],
   "source": [
    "br_trends = api.trends_place(WOEID_BR)"
   ]
  },
  {
   "cell_type": "code",
   "execution_count": 231,
   "id": "f3b58707",
   "metadata": {
    "scrolled": true
   },
   "outputs": [
    {
     "name": "stdout",
     "output_type": "stream",
     "text": [
      "Number of Trends Tweets Brazil:\n",
      "50\n",
      "\n",
      "Trend Tweets Brazil:\n",
      "Portugal\n",
      "Nintendo\n",
      "Diogo Jota\n",
      "#BeatsMandaJobs\n",
      "#LonelyBug\n",
      "Zelda\n",
      "Zelda\n",
      "Cristiano Ronaldo\n",
      "#E32021\n",
      "Metroid\n",
      "Boulos\n",
      "Chuck Bass\n",
      "Alemanha\n",
      "Fatal Frame\n",
      "#DeixaXukuruGovernar\n",
      "Advance Wars\n",
      "Jean Pyerre\n",
      "Bruno Fernandes\n",
      "Smash\n",
      "#PassaporteDaVacinaNao\n",
      "William Carvalho\n",
      "Budapeste\n",
      "Fernando Santos\n",
      "jeno\n",
      "Nadia\n",
      "País de Goles\n",
      "João Félix\n",
      "Mario Party\n",
      "Wario Ware\n",
      "Kazuya\n",
      "Renê\n",
      "Danilo Pereira\n",
      "Lázaro\n",
      "SMT V\n",
      "Bernardo Silva\n",
      "Ariel Cabral\n",
      "Romário\n",
      "Tirei Camisinha\n",
      "Shin Megami Tensei V\n",
      "Guzman\n",
      "Tekken\n",
      "Coca-Cola\n",
      "Danganronpa\n",
      "Semedo\n",
      "David\n",
      "Kirby\n",
      "Haddad\n",
      "Ruben Neves\n",
      "Domenec\n",
      "renjun\n"
     ]
    }
   ],
   "source": [
    "i = 1;\n",
    "num_tweets = 0\n",
    "\n",
    "print(\"Number of Trends Tweets Brazil:\")\n",
    "\n",
    "for value in br_trends:\n",
    "    for trend in value['trends']:\n",
    "        num_tweets += i\n",
    "    \n",
    "    \n",
    "print (num_tweets)\n",
    "\n",
    "print(\"\\nTrend Tweets Brazil:\")\n",
    "\n",
    "for value in br_trends:\n",
    "    for trend in value['trends']:\n",
    "        print(trend['name'])    "
   ]
  },
  {
   "cell_type": "code",
   "execution_count": 232,
   "id": "0de65946",
   "metadata": {},
   "outputs": [],
   "source": [
    "#Search for Keyword\n",
    "\n",
    "keyword = (\"'AEE' OR 'Educação Especial''\")"
   ]
  },
  {
   "cell_type": "code",
   "execution_count": 233,
   "id": "8a4590b0",
   "metadata": {},
   "outputs": [
    {
     "data": {
      "text/plain": [
       "<tweepy.cursor.ItemIterator at 0x14e567d1130>"
      ]
     },
     "execution_count": 233,
     "metadata": {},
     "output_type": "execute_result"
    }
   ],
   "source": [
    "tweet_cursor = tweepy.Cursor(api.search, q = keyword, tweet_mode = 'extended', rrp = 10, lang = 'pt').items(10)\n",
    "tweet_cursor"
   ]
  },
  {
   "cell_type": "code",
   "execution_count": 234,
   "id": "f5d90342",
   "metadata": {},
   "outputs": [],
   "source": [
    "#Save the tweets\n",
    "tweets = []\n",
    "all_tw = []\n",
    "\n",
    "for tweet in tweet_cursor:\n",
    "    tweets.append(tweet.full_text)"
   ]
  },
  {
   "cell_type": "code",
   "execution_count": 235,
   "id": "24e67e95",
   "metadata": {},
   "outputs": [
    {
     "data": {
      "text/plain": [
       "['Em momentos cruciais, a humanidade enfrentou grandes desafios e esteve à altura da ocasião. \\n\\nA @UNESCO acredita que a educação tem um papel especial a desempenhar, contribuindo para o bem comum global. \\n\\n✍🏼 https://t.co/iNuwhRrpWk https://t.co/23vjiQY7Fj',\n",
       " 'RT @YeonjunBR: Fansign 🇰🇷-🇧🇷\\n\\n👤: meu sonho é me tornar uma professora, você pode dizer algo encorajador que vai definitivamente fazer meu s…',\n",
       " 'RT @YeonjunBR: Fansign 🇰🇷-🇧🇷\\n\\n👤: meu sonho é me tornar uma professora, você pode dizer algo encorajador que vai definitivamente fazer meu s…',\n",
       " 'e o ponto negativo da faculdade de pedagogia é q exige um lado criativo q eu não tenho KKKKK toda vez q a minha professora pede pra fazermos algum brinquedo p educação infantil/ especial eu fico perdidabKKKKK q q eu faço?!!!',\n",
       " 'Companheiros (as), COMUNICADO IMPORTANTE ! \\n\\nNos dias 18 e 19 de Junho, vacinação dos professores (as), das redes pública e Privada dos Ensinos Médio, Técnico, Superior e para os professores (as) da Educação Infantil, Especial e Fundamental  que ainda não foram Vacinados ! https://t.co/9lJxxBFvlx',\n",
       " 'Companheiros (as), COMUNICADO IMPORTANTE ! \\n\\nNos dias 18 e 19 de Junho, vacinação dos professores (as), das redes pública e Privada dos Ensinos Médio, Técnico, Superior e para os professores (as) da Educação Infantil, Especial e Fundamental  que ainda não foram Vacinados ! https://t.co/iIQqtOKB6n',\n",
       " 'RT @YeonjunBR: Fansign 🇰🇷-🇧🇷\\n\\n👤: meu sonho é me tornar uma professora, você pode dizer algo encorajador que vai definitivamente fazer meu s…',\n",
       " 'Companheiros (as), COMUNICADO IMPORTANTE ! \\n\\nNos dias 18 e 19 de Junho, vacinação (vacina Pfizer), dos professores, das redes pública e Privada dos Ensinos Médio, Técnico, Superior e para os professores (as) da Educação Infantil, Especial e Fundamental  que a não foram Vacinados!',\n",
       " 'RT @YeonjunBR: Fansign 🇰🇷-🇧🇷\\n\\n👤: meu sonho é me tornar uma professora, você pode dizer algo encorajador que vai definitivamente fazer meu s…',\n",
       " 'Nosso encontro marcado para amanhã está confirmado!\\n\\nContaremos com a participação especial do Secretário de Educação de Wagner/BA, Ricardo Matos Berbel contando as experiências da implementação no município.\\n\\nEsperamos vocês no Zoom às 11h! Até já! https://t.co/sqLSE1v3Dm']"
      ]
     },
     "execution_count": 235,
     "metadata": {},
     "output_type": "execute_result"
    }
   ],
   "source": [
    "tweets = [i.split(\"',\", 1)[0] for i in tweets]\n",
    "\n",
    "tweets"
   ]
  },
  {
   "cell_type": "code",
   "execution_count": 236,
   "id": "7d3e88e6",
   "metadata": {},
   "outputs": [],
   "source": [
    "file = open('tweets_br.txt', 'a', -1, 'utf-8')\n",
    "\n",
    "i = 0\n",
    "for tw in tweets:\n",
    "    #tweets[i].lstrip()\n",
    "    #tweets[i].rstrip()\n",
    "    file.write(tweets[i].replace(\"\\n\", \" \")) #remove all newline from text\n",
    "    file.write(\"\\n\")\n",
    "    #print(tweets[i], i)\n",
    "    i += 1\n",
    "file.close()"
   ]
  }
 ],
 "metadata": {
  "kernelspec": {
   "display_name": "Python 3",
   "language": "python",
   "name": "python3"
  },
  "language_info": {
   "codemirror_mode": {
    "name": "ipython",
    "version": 3
   },
   "file_extension": ".py",
   "mimetype": "text/x-python",
   "name": "python",
   "nbconvert_exporter": "python",
   "pygments_lexer": "ipython3",
   "version": "3.8.8"
  }
 },
 "nbformat": 4,
 "nbformat_minor": 5
}
